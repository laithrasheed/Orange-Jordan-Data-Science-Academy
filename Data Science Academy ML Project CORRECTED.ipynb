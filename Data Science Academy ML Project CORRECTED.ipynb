{
 "cells": [
  {
   "cell_type": "code",
   "execution_count": 1,
   "id": "14efdecf",
   "metadata": {},
   "outputs": [],
   "source": [
    "# importing the needed libraries \n",
    "import pandas as pd \n",
    "import numpy as np "
   ]
  },
  {
   "cell_type": "code",
   "execution_count": 59,
   "id": "0c2a2993",
   "metadata": {},
   "outputs": [
    {
     "data": {
      "text/html": [
       "<div>\n",
       "<style scoped>\n",
       "    .dataframe tbody tr th:only-of-type {\n",
       "        vertical-align: middle;\n",
       "    }\n",
       "\n",
       "    .dataframe tbody tr th {\n",
       "        vertical-align: top;\n",
       "    }\n",
       "\n",
       "    .dataframe thead th {\n",
       "        text-align: right;\n",
       "    }\n",
       "</style>\n",
       "<table border=\"1\" class=\"dataframe\">\n",
       "  <thead>\n",
       "    <tr style=\"text-align: right;\">\n",
       "      <th></th>\n",
       "      <th>ID</th>\n",
       "      <th>GOVERNORATE</th>\n",
       "      <th>Customer with orange_MONTHS</th>\n",
       "      <th>CUSTOMER_AGE_MONTHS</th>\n",
       "      <th>CUSTOMER_GENDER</th>\n",
       "      <th>COMMITMENT</th>\n",
       "      <th>COMMITMENT_FG</th>\n",
       "      <th>OF_SPEED</th>\n",
       "      <th>OF_PREV_SPEED</th>\n",
       "      <th>MIGRATION_FLAG</th>\n",
       "      <th>...</th>\n",
       "      <th>LAST_POWER_VALIDATION</th>\n",
       "      <th>LAST_LINK_PRIORITY</th>\n",
       "      <th>Disconnection_TOTAL_MAX_day</th>\n",
       "      <th>Disconnection_TOTAL_MIN_day</th>\n",
       "      <th>Disconnection_TOTAL_SUM_Month</th>\n",
       "      <th>Disconnection_TOTAL_MEAN_Month</th>\n",
       "      <th>GB_TOTAL_CONSUMPTION_Month1</th>\n",
       "      <th>GB_TOTAL_CONSUMPTION_Month2</th>\n",
       "      <th>GB_TOTAL_CONSUMPTION_Month3</th>\n",
       "      <th>TARGET</th>\n",
       "    </tr>\n",
       "  </thead>\n",
       "  <tbody>\n",
       "    <tr>\n",
       "      <th>0</th>\n",
       "      <td>1</td>\n",
       "      <td>West Amman</td>\n",
       "      <td>48.741935</td>\n",
       "      <td>567.677419</td>\n",
       "      <td>M</td>\n",
       "      <td>24</td>\n",
       "      <td>1</td>\n",
       "      <td>200</td>\n",
       "      <td>100.0</td>\n",
       "      <td>y</td>\n",
       "      <td>...</td>\n",
       "      <td>Abnormal</td>\n",
       "      <td>Regular</td>\n",
       "      <td>1.0</td>\n",
       "      <td>1.0</td>\n",
       "      <td>32.0</td>\n",
       "      <td>1.000000</td>\n",
       "      <td>645.685532</td>\n",
       "      <td>561.726552</td>\n",
       "      <td>519.477249</td>\n",
       "      <td>0</td>\n",
       "    </tr>\n",
       "    <tr>\n",
       "      <th>1</th>\n",
       "      <td>2</td>\n",
       "      <td>West Amman</td>\n",
       "      <td>44.838710</td>\n",
       "      <td>740.580645</td>\n",
       "      <td>M</td>\n",
       "      <td>24</td>\n",
       "      <td>0</td>\n",
       "      <td>100</td>\n",
       "      <td>100.0</td>\n",
       "      <td>y</td>\n",
       "      <td>...</td>\n",
       "      <td>None</td>\n",
       "      <td>Regular</td>\n",
       "      <td>1.0</td>\n",
       "      <td>1.0</td>\n",
       "      <td>4.0</td>\n",
       "      <td>1.000000</td>\n",
       "      <td>174.360611</td>\n",
       "      <td>159.508825</td>\n",
       "      <td>145.229521</td>\n",
       "      <td>0</td>\n",
       "    </tr>\n",
       "    <tr>\n",
       "      <th>2</th>\n",
       "      <td>3</td>\n",
       "      <td>West Amman</td>\n",
       "      <td>44.612903</td>\n",
       "      <td>531.096774</td>\n",
       "      <td>M</td>\n",
       "      <td>24</td>\n",
       "      <td>1</td>\n",
       "      <td>200</td>\n",
       "      <td>100.0</td>\n",
       "      <td>y</td>\n",
       "      <td>...</td>\n",
       "      <td>None</td>\n",
       "      <td>Regular</td>\n",
       "      <td>2.0</td>\n",
       "      <td>1.0</td>\n",
       "      <td>8.0</td>\n",
       "      <td>1.333333</td>\n",
       "      <td>299.379466</td>\n",
       "      <td>319.849905</td>\n",
       "      <td>257.353694</td>\n",
       "      <td>0</td>\n",
       "    </tr>\n",
       "    <tr>\n",
       "      <th>3</th>\n",
       "      <td>4</td>\n",
       "      <td>Balqa</td>\n",
       "      <td>43.741935</td>\n",
       "      <td>645.612903</td>\n",
       "      <td>M</td>\n",
       "      <td>24</td>\n",
       "      <td>0</td>\n",
       "      <td>200</td>\n",
       "      <td>100.0</td>\n",
       "      <td>y</td>\n",
       "      <td>...</td>\n",
       "      <td>None</td>\n",
       "      <td>Regular</td>\n",
       "      <td>1.0</td>\n",
       "      <td>1.0</td>\n",
       "      <td>6.0</td>\n",
       "      <td>1.000000</td>\n",
       "      <td>477.543451</td>\n",
       "      <td>791.806873</td>\n",
       "      <td>569.299840</td>\n",
       "      <td>0</td>\n",
       "    </tr>\n",
       "  </tbody>\n",
       "</table>\n",
       "<p>4 rows × 22 columns</p>\n",
       "</div>"
      ],
      "text/plain": [
       "   ID GOVERNORATE  Customer with orange_MONTHS  CUSTOMER_AGE_MONTHS  \\\n",
       "0   1  West Amman                    48.741935           567.677419   \n",
       "1   2  West Amman                    44.838710           740.580645   \n",
       "2   3  West Amman                    44.612903           531.096774   \n",
       "3   4       Balqa                    43.741935           645.612903   \n",
       "\n",
       "  CUSTOMER_GENDER  COMMITMENT  COMMITMENT_FG  OF_SPEED  OF_PREV_SPEED  \\\n",
       "0               M          24              1       200          100.0   \n",
       "1               M          24              0       100          100.0   \n",
       "2               M          24              1       200          100.0   \n",
       "3               M          24              0       200          100.0   \n",
       "\n",
       "  MIGRATION_FLAG  ... LAST_POWER_VALIDATION LAST_LINK_PRIORITY  \\\n",
       "0              y  ...              Abnormal            Regular   \n",
       "1              y  ...                  None            Regular   \n",
       "2              y  ...                  None            Regular   \n",
       "3              y  ...                  None            Regular   \n",
       "\n",
       "  Disconnection_TOTAL_MAX_day Disconnection_TOTAL_MIN_day  \\\n",
       "0                         1.0                         1.0   \n",
       "1                         1.0                         1.0   \n",
       "2                         2.0                         1.0   \n",
       "3                         1.0                         1.0   \n",
       "\n",
       "   Disconnection_TOTAL_SUM_Month  Disconnection_TOTAL_MEAN_Month  \\\n",
       "0                           32.0                        1.000000   \n",
       "1                            4.0                        1.000000   \n",
       "2                            8.0                        1.333333   \n",
       "3                            6.0                        1.000000   \n",
       "\n",
       "   GB_TOTAL_CONSUMPTION_Month1  GB_TOTAL_CONSUMPTION_Month2  \\\n",
       "0                   645.685532                   561.726552   \n",
       "1                   174.360611                   159.508825   \n",
       "2                   299.379466                   319.849905   \n",
       "3                   477.543451                   791.806873   \n",
       "\n",
       "   GB_TOTAL_CONSUMPTION_Month3  TARGET  \n",
       "0                   519.477249       0  \n",
       "1                   145.229521       0  \n",
       "2                   257.353694       0  \n",
       "3                   569.299840       0  \n",
       "\n",
       "[4 rows x 22 columns]"
      ]
     },
     "execution_count": 59,
     "metadata": {},
     "output_type": "execute_result"
    }
   ],
   "source": [
    "# loading the dataset \n",
    "df = pd.read_excel('FTTH-DataSet.xlsx')\n",
    "df.head(4)"
   ]
  },
  {
   "cell_type": "code",
   "execution_count": 60,
   "id": "7960b698",
   "metadata": {},
   "outputs": [],
   "source": [
    "# let's perform the needed cleansing: \n",
    "# importing the needed libraries\n",
    "import pandas as pd\n",
    "from sklearn import preprocessing\n",
    "from sklearn.preprocessing import MinMaxScaler\n",
    "from imblearn.over_sampling import SMOTE\n",
    "\n",
    "# let's define a function that perform the data cleaning steps\n",
    "def clean(data):\n",
    "    #lets's drop the columns that we think it is not needed\n",
    "    data = data.drop(['ID', 'OF_PREV_SPEED', 'LAST_LINK_QUALITY', 'LAST_LINK_STATUS', 'LAST_POWER_VALIDATION', 'LAST_LINK_PRIORITY', 'Disconnection_TOTAL_MAX_day', 'Disconnection_TOTAL_MIN_day', 'Disconnection_TOTAL_SUM_Month', 'Disconnection_TOTAL_MEAN_Month'], axis=1)\n",
    "    # we are going to fill the missing data with most common value for each categorical and numerical values    \n",
    "    data = data.apply(lambda x: x.fillna(x.value_counts().index[0]))\n",
    "    # we need to import preprocessing from scikit-learn library, to use label encoding for handling the categorical values\n",
    "    label_encoder = preprocessing.LabelEncoder()\n",
    "    # applying the label encoding for the following 3 features that have categorical values \n",
    "    data['GOVERNORATE'] = label_encoder.fit_transform(data['GOVERNORATE'])\n",
    "    data['CUSTOMER_GENDER'] = label_encoder.fit_transform(data['CUSTOMER_GENDER'])\n",
    "    data['MIGRATION_FLAG'] = label_encoder.fit_transform(data['MIGRATION_FLAG'])\n",
    "    # let's define a variable that stores all the columns we are in need to handle its scale\n",
    "    columns_to_scale = ['GOVERNORATE', 'Customer with orange_MONTHS', 'CUSTOMER_AGE_MONTHS','CUSTOMER_GENDER', 'COMMITMENT', 'COMMITMENT_FG', 'OF_SPEED','MIGRATION_FLAG', 'GB_TOTAL_CONSUMPTION_Month1','GB_TOTAL_CONSUMPTION_Month2', 'GB_TOTAL_CONSUMPTION_Month3', 'TARGET']\n",
    "    # we are going to use MinMaxScaler to handle the distribution of the data\n",
    "    # we need to import its library\n",
    "    # let's define another variable that store the MinMaxScaler function\n",
    "    scaler = MinMaxScaler()\n",
    "    # applying scaler to the defined columns\n",
    "    data[columns_to_scale] = scaler.fit_transform(data[columns_to_scale])\n",
    "    # one-hot encode the categorical features\n",
    "    ##data = pd.get_dummies(data, columns=['GOVERNORATE', 'CUSTOMER_GENDER', 'MIGRATION_FLAG'])\n",
    "    # Separate the target variable from the features\n",
    "    X = data.drop('TARGET', axis=1)\n",
    "    y = data['TARGET']\n",
    "\n",
    "    return data"
   ]
  },
  {
   "cell_type": "code",
   "execution_count": 61,
   "id": "4581a27b",
   "metadata": {},
   "outputs": [],
   "source": [
    "df = clean(df)"
   ]
  },
  {
   "cell_type": "code",
   "execution_count": 62,
   "id": "cfc636ef",
   "metadata": {},
   "outputs": [
    {
     "data": {
      "text/plain": [
       "(94478, 12)"
      ]
     },
     "execution_count": 62,
     "metadata": {},
     "output_type": "execute_result"
    }
   ],
   "source": [
    "df.shape"
   ]
  },
  {
   "cell_type": "code",
   "execution_count": 63,
   "id": "5aa71df7",
   "metadata": {},
   "outputs": [
    {
     "data": {
      "text/html": [
       "<div>\n",
       "<style scoped>\n",
       "    .dataframe tbody tr th:only-of-type {\n",
       "        vertical-align: middle;\n",
       "    }\n",
       "\n",
       "    .dataframe tbody tr th {\n",
       "        vertical-align: top;\n",
       "    }\n",
       "\n",
       "    .dataframe thead th {\n",
       "        text-align: right;\n",
       "    }\n",
       "</style>\n",
       "<table border=\"1\" class=\"dataframe\">\n",
       "  <thead>\n",
       "    <tr style=\"text-align: right;\">\n",
       "      <th></th>\n",
       "      <th>GOVERNORATE</th>\n",
       "      <th>Customer with orange_MONTHS</th>\n",
       "      <th>CUSTOMER_AGE_MONTHS</th>\n",
       "      <th>CUSTOMER_GENDER</th>\n",
       "      <th>COMMITMENT</th>\n",
       "      <th>COMMITMENT_FG</th>\n",
       "      <th>OF_SPEED</th>\n",
       "      <th>MIGRATION_FLAG</th>\n",
       "      <th>GB_TOTAL_CONSUMPTION_Month1</th>\n",
       "      <th>GB_TOTAL_CONSUMPTION_Month2</th>\n",
       "      <th>GB_TOTAL_CONSUMPTION_Month3</th>\n",
       "      <th>TARGET</th>\n",
       "    </tr>\n",
       "  </thead>\n",
       "  <tbody>\n",
       "    <tr>\n",
       "      <th>0</th>\n",
       "      <td>0.9</td>\n",
       "      <td>0.957929</td>\n",
       "      <td>0.049017</td>\n",
       "      <td>0.5</td>\n",
       "      <td>0.5</td>\n",
       "      <td>1.0</td>\n",
       "      <td>0.175258</td>\n",
       "      <td>1.0</td>\n",
       "      <td>0.062382</td>\n",
       "      <td>0.053547</td>\n",
       "      <td>0.048680</td>\n",
       "      <td>0.0</td>\n",
       "    </tr>\n",
       "    <tr>\n",
       "      <th>1</th>\n",
       "      <td>0.9</td>\n",
       "      <td>0.879612</td>\n",
       "      <td>0.063973</td>\n",
       "      <td>0.5</td>\n",
       "      <td>0.5</td>\n",
       "      <td>0.0</td>\n",
       "      <td>0.072165</td>\n",
       "      <td>1.0</td>\n",
       "      <td>0.016846</td>\n",
       "      <td>0.015205</td>\n",
       "      <td>0.013609</td>\n",
       "      <td>0.0</td>\n",
       "    </tr>\n",
       "    <tr>\n",
       "      <th>2</th>\n",
       "      <td>0.9</td>\n",
       "      <td>0.875081</td>\n",
       "      <td>0.045853</td>\n",
       "      <td>0.5</td>\n",
       "      <td>0.5</td>\n",
       "      <td>1.0</td>\n",
       "      <td>0.175258</td>\n",
       "      <td>1.0</td>\n",
       "      <td>0.028924</td>\n",
       "      <td>0.030490</td>\n",
       "      <td>0.024116</td>\n",
       "      <td>0.0</td>\n",
       "    </tr>\n",
       "    <tr>\n",
       "      <th>3</th>\n",
       "      <td>0.1</td>\n",
       "      <td>0.857605</td>\n",
       "      <td>0.055758</td>\n",
       "      <td>0.5</td>\n",
       "      <td>0.5</td>\n",
       "      <td>0.0</td>\n",
       "      <td>0.175258</td>\n",
       "      <td>1.0</td>\n",
       "      <td>0.046137</td>\n",
       "      <td>0.075479</td>\n",
       "      <td>0.053349</td>\n",
       "      <td>0.0</td>\n",
       "    </tr>\n",
       "  </tbody>\n",
       "</table>\n",
       "</div>"
      ],
      "text/plain": [
       "   GOVERNORATE  Customer with orange_MONTHS  CUSTOMER_AGE_MONTHS  \\\n",
       "0          0.9                     0.957929             0.049017   \n",
       "1          0.9                     0.879612             0.063973   \n",
       "2          0.9                     0.875081             0.045853   \n",
       "3          0.1                     0.857605             0.055758   \n",
       "\n",
       "   CUSTOMER_GENDER  COMMITMENT  COMMITMENT_FG  OF_SPEED  MIGRATION_FLAG  \\\n",
       "0              0.5         0.5            1.0  0.175258             1.0   \n",
       "1              0.5         0.5            0.0  0.072165             1.0   \n",
       "2              0.5         0.5            1.0  0.175258             1.0   \n",
       "3              0.5         0.5            0.0  0.175258             1.0   \n",
       "\n",
       "   GB_TOTAL_CONSUMPTION_Month1  GB_TOTAL_CONSUMPTION_Month2  \\\n",
       "0                     0.062382                     0.053547   \n",
       "1                     0.016846                     0.015205   \n",
       "2                     0.028924                     0.030490   \n",
       "3                     0.046137                     0.075479   \n",
       "\n",
       "   GB_TOTAL_CONSUMPTION_Month3  TARGET  \n",
       "0                     0.048680     0.0  \n",
       "1                     0.013609     0.0  \n",
       "2                     0.024116     0.0  \n",
       "3                     0.053349     0.0  "
      ]
     },
     "execution_count": 63,
     "metadata": {},
     "output_type": "execute_result"
    }
   ],
   "source": [
    "df.head(4)"
   ]
  },
  {
   "cell_type": "code",
   "execution_count": 64,
   "id": "76805bb9",
   "metadata": {},
   "outputs": [
    {
     "data": {
      "text/plain": [
       "Index(['GOVERNORATE', 'Customer with orange_MONTHS', 'CUSTOMER_AGE_MONTHS',\n",
       "       'CUSTOMER_GENDER', 'COMMITMENT', 'COMMITMENT_FG', 'OF_SPEED',\n",
       "       'MIGRATION_FLAG', 'GB_TOTAL_CONSUMPTION_Month1',\n",
       "       'GB_TOTAL_CONSUMPTION_Month2', 'GB_TOTAL_CONSUMPTION_Month3', 'TARGET'],\n",
       "      dtype='object')"
      ]
     },
     "execution_count": 64,
     "metadata": {},
     "output_type": "execute_result"
    }
   ],
   "source": [
    "df.columns"
   ]
  },
  {
   "cell_type": "code",
   "execution_count": 65,
   "id": "162f99b6",
   "metadata": {},
   "outputs": [
    {
     "data": {
      "text/plain": [
       "<bound method NDFrame.describe of        GOVERNORATE  Customer with orange_MONTHS  CUSTOMER_AGE_MONTHS  \\\n",
       "0              0.9                     0.957929             0.049017   \n",
       "1              0.9                     0.879612             0.063973   \n",
       "2              0.9                     0.875081             0.045853   \n",
       "3              0.1                     0.857605             0.055758   \n",
       "4              0.9                     0.813592             0.026882   \n",
       "...            ...                          ...                  ...   \n",
       "94473          1.0                     0.003883             0.020790   \n",
       "94474          0.2                     0.345631             0.043688   \n",
       "94475          0.9                     0.239482             0.074384   \n",
       "94476          0.9                     0.170227             0.028824   \n",
       "94477          0.2                     0.408414             0.058169   \n",
       "\n",
       "       CUSTOMER_GENDER  COMMITMENT  COMMITMENT_FG  OF_SPEED  MIGRATION_FLAG  \\\n",
       "0                  0.5         0.5            1.0  0.175258             1.0   \n",
       "1                  0.5         0.5            0.0  0.072165             1.0   \n",
       "2                  0.5         0.5            1.0  0.175258             1.0   \n",
       "3                  0.5         0.5            0.0  0.175258             1.0   \n",
       "4                  0.5         0.0            1.0  0.381443             1.0   \n",
       "...                ...         ...            ...       ...             ...   \n",
       "94473              0.5         0.0            1.0  0.175258             1.0   \n",
       "94474              0.5         0.5            1.0  0.175258             0.0   \n",
       "94475              0.0         0.0            1.0  0.381443             1.0   \n",
       "94476              0.5         0.5            1.0  0.175258             0.0   \n",
       "94477              0.0         0.5            1.0  0.030928             0.0   \n",
       "\n",
       "       GB_TOTAL_CONSUMPTION_Month1  GB_TOTAL_CONSUMPTION_Month2  \\\n",
       "0                         0.062382                     0.053547   \n",
       "1                         0.016846                     0.015205   \n",
       "2                         0.028924                     0.030490   \n",
       "3                         0.046137                     0.075479   \n",
       "4                         0.086114                     0.089326   \n",
       "...                            ...                          ...   \n",
       "94473                     0.049321                     0.011403   \n",
       "94474                     0.000000                     0.000000   \n",
       "94475                     0.000000                     0.000000   \n",
       "94476                     0.000000                     0.000000   \n",
       "94477                     0.000000                     0.000000   \n",
       "\n",
       "       GB_TOTAL_CONSUMPTION_Month3  TARGET  \n",
       "0                         0.048680     0.0  \n",
       "1                         0.013609     0.0  \n",
       "2                         0.024116     0.0  \n",
       "3                         0.053349     0.0  \n",
       "4                         0.074129     0.0  \n",
       "...                            ...     ...  \n",
       "94473                     0.000000     0.0  \n",
       "94474                     0.000000     0.0  \n",
       "94475                     0.000000     0.0  \n",
       "94476                     0.000000     0.0  \n",
       "94477                     0.000000     0.0  \n",
       "\n",
       "[94478 rows x 12 columns]>"
      ]
     },
     "execution_count": 65,
     "metadata": {},
     "output_type": "execute_result"
    }
   ],
   "source": [
    "df.describe"
   ]
  },
  {
   "cell_type": "code",
   "execution_count": 66,
   "id": "82767149",
   "metadata": {},
   "outputs": [
    {
     "data": {
      "text/plain": [
       "GOVERNORATE                    float64\n",
       "Customer with orange_MONTHS    float64\n",
       "CUSTOMER_AGE_MONTHS            float64\n",
       "CUSTOMER_GENDER                float64\n",
       "COMMITMENT                     float64\n",
       "COMMITMENT_FG                  float64\n",
       "OF_SPEED                       float64\n",
       "MIGRATION_FLAG                 float64\n",
       "GB_TOTAL_CONSUMPTION_Month1    float64\n",
       "GB_TOTAL_CONSUMPTION_Month2    float64\n",
       "GB_TOTAL_CONSUMPTION_Month3    float64\n",
       "TARGET                         float64\n",
       "dtype: object"
      ]
     },
     "execution_count": 66,
     "metadata": {},
     "output_type": "execute_result"
    }
   ],
   "source": [
    "df.dtypes"
   ]
  },
  {
   "cell_type": "markdown",
   "id": "40e694f6",
   "metadata": {},
   "source": [
    "###### Now we are ready to split the data into three datasets, trian, validate, and test. Splitting the data after the previous steps enusre that no biase could appear , and then we are ready to perform ML step"
   ]
  },
  {
   "cell_type": "code",
   "execution_count": 67,
   "id": "4d5fc5d4",
   "metadata": {},
   "outputs": [],
   "source": [
    "# importing the needed library\n",
    "from sklearn.model_selection import train_test_split\n",
    "# splitting the datasest into 3 datasets: train, validate, and test\n",
    "# the stratify parameter is used to ensure that the target  is evenly distributed.\n",
    "train, test = train_test_split(df, test_size=.2, random_state=42, stratify=df['TARGET'])\n",
    "train, val = train_test_split(train, test_size=.1, random_state=42, stratify=train['TARGET'])"
   ]
  },
  {
   "cell_type": "code",
   "execution_count": 68,
   "id": "96dd9e3b",
   "metadata": {},
   "outputs": [
    {
     "name": "stdout",
     "output_type": "stream",
     "text": [
      "Training Dataset Shape is: (68023, 12) \n",
      " Validation Dataset Shape is: (7559, 12) \n",
      " Testing Dataset Shape is: (18896, 12)\n"
     ]
    }
   ],
   "source": [
    "#Let's output the shapes of the three datasets: training, validation, and testing :)\n",
    "print('Training Dataset Shape is:', train.shape, '\\n','Validation Dataset Shape is:' , val.shape,'\\n','Testing Dataset Shape is:' , test.shape)"
   ]
  },
  {
   "cell_type": "markdown",
   "id": "1019899d",
   "metadata": {},
   "source": [
    "###### Splitting the datasets ensures that no DATA LEAKAGE may occur, PLUS we need to drop the 'TARGET 'column before saving the csv files as follows:"
   ]
  },
  {
   "cell_type": "code",
   "execution_count": 69,
   "id": "f8b96f1d",
   "metadata": {},
   "outputs": [],
   "source": [
    "val = val.drop(['TARGET'], axis = 1)\n",
    "test = test.drop(['TARGET'], axis = 1 )"
   ]
  },
  {
   "cell_type": "code",
   "execution_count": 70,
   "id": "c0b75616",
   "metadata": {},
   "outputs": [
    {
     "name": "stdout",
     "output_type": "stream",
     "text": [
      "(7559, 11) (18896, 11)\n"
     ]
    }
   ],
   "source": [
    "print(val.shape, test.shape)"
   ]
  },
  {
   "cell_type": "code",
   "execution_count": 42,
   "id": "a123a596",
   "metadata": {},
   "outputs": [],
   "source": [
    "#train.to_csv('train.csv', index = False)\n",
    "#val.to_csv('val.csv', index = False)\n",
    "#test.to_csv('test.csv', index = False)"
   ]
  },
  {
   "cell_type": "code",
   "execution_count": 71,
   "id": "baa4b240",
   "metadata": {},
   "outputs": [
    {
     "data": {
      "text/plain": [
       "Index(['GOVERNORATE', 'Customer with orange_MONTHS', 'CUSTOMER_AGE_MONTHS',\n",
       "       'CUSTOMER_GENDER', 'COMMITMENT', 'COMMITMENT_FG', 'OF_SPEED',\n",
       "       'MIGRATION_FLAG', 'GB_TOTAL_CONSUMPTION_Month1',\n",
       "       'GB_TOTAL_CONSUMPTION_Month2', 'GB_TOTAL_CONSUMPTION_Month3', 'TARGET'],\n",
       "      dtype='object')"
      ]
     },
     "execution_count": 71,
     "metadata": {},
     "output_type": "execute_result"
    }
   ],
   "source": [
    "train.column"
   ]
  },
  {
   "cell_type": "code",
   "execution_count": 75,
   "id": "e005564d",
   "metadata": {},
   "outputs": [
    {
     "name": "stdout",
     "output_type": "stream",
     "text": [
      "Accuracy: 0.8278946006873869\n",
      "Precision: 0.8248800295311923\n",
      "Recall: 0.830212513003418\n",
      "F1-score: 0.8275376809984076\n",
      "Cross-validation scores: [0.99448732 0.99448732 0.99441382 0.99448692 0.99448692]\n",
      "Mean cross-validation score: 0.9944724582702127\n"
     ]
    }
   ],
   "source": [
    "# importing the needed libraries\n",
    "from sklearn.ensemble import RandomForestClassifier\n",
    "from sklearn.model_selection import train_test_split, cross_val_score\n",
    "from sklearn.metrics import accuracy_score, precision_score, recall_score, f1_score\n",
    "from sklearn.model_selection import train_test_split, cross_val_score\n",
    "from sklearn.metrics import accuracy_score, precision_score, recall_score, f1_score\n",
    "\n",
    "# let's define the y to our prediction trget\n",
    "y = train['TARGET']\n",
    "# let's define the X to our features after selection and engineering \n",
    "X = train.drop(['TARGET'], axis = 1)\n",
    "\n",
    "# Apply SMOTE to balance the dataset\n",
    "smote = SMOTE(random_state=1)\n",
    "X_resampled, y_resampled = smote.fit_resample(X, y)\n",
    "\n",
    "# Split the data into training and validation sets\n",
    "X_train, X_val, y_train, y_val = train_test_split(X_resampled, y_resampled, test_size=0.2, random_state=42)\n",
    "model = RandomForestClassifier(n_estimators = 100, max_depth = 5, random_state = 1)\n",
    "model.fit(X_train, y_train)\n",
    "\n",
    "# Make predictions on the validation set\n",
    "val_predictions = model.predict(X_val)\n",
    "\n",
    "# Evaluate the performance of the model using various metrics\n",
    "print(\"Accuracy:\", accuracy_score(y_val, val_predictions))\n",
    "print(\"Precision:\", precision_score(y_val, val_predictions, zero_division=1))\n",
    "print(\"Recall:\", recall_score(y_val, val_predictions, zero_division=1))\n",
    "print(\"F1-score:\", f1_score(y_val, val_predictions, zero_division=1))\n",
    "\n",
    "# Use cross-validation to get a more accurate estimate of the model's performance\n",
    "cv_scores = cross_val_score(model, X, y, cv=5)\n",
    "print(\"Cross-validation scores:\", cv_scores)\n",
    "print(\"Mean cross-validation score:\", cv_scores.mean())"
   ]
  },
  {
   "cell_type": "code",
   "execution_count": 77,
   "id": "ddfa9d39",
   "metadata": {},
   "outputs": [],
   "source": []
  },
  {
   "cell_type": "code",
   "execution_count": null,
   "id": "55a30234",
   "metadata": {},
   "outputs": [],
   "source": []
  },
  {
   "cell_type": "code",
   "execution_count": null,
   "id": "9cb91439",
   "metadata": {},
   "outputs": [],
   "source": []
  },
  {
   "cell_type": "code",
   "execution_count": null,
   "id": "dd466cf8",
   "metadata": {},
   "outputs": [],
   "source": []
  }
 ],
 "metadata": {
  "kernelspec": {
   "display_name": "Python 3 (ipykernel)",
   "language": "python",
   "name": "python3"
  },
  "language_info": {
   "codemirror_mode": {
    "name": "ipython",
    "version": 3
   },
   "file_extension": ".py",
   "mimetype": "text/x-python",
   "name": "python",
   "nbconvert_exporter": "python",
   "pygments_lexer": "ipython3",
   "version": "3.9.16"
  }
 },
 "nbformat": 4,
 "nbformat_minor": 5
}
